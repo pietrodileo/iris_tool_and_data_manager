{
 "cells": [
  {
   "cell_type": "markdown",
   "id": "156f1823",
   "metadata": {},
   "source": [
    "# 🚀 IRIStool Quickstart\n",
    "This short demo shows how to:\n",
    "- Connect to InterSystems IRIS using IRIStool Python module\n",
    "- Create and query a simple SQL table\n",
    "- Create related tables with foreign keys\n",
    "- Convert a Pandas DataFrame into an IRIS table\n",
    "- Run SQL queries directly from Python"
   ]
  },
  {
   "cell_type": "code",
   "execution_count": 1,
   "id": "fda71600",
   "metadata": {},
   "outputs": [],
   "source": [
    "import pandas as pd\n",
    "from utils.iristool import IRIStool\n",
    "import dotenv\n",
    "import os\n",
    "from datetime import datetime"
   ]
  },
  {
   "cell_type": "markdown",
   "id": "7ed0c854",
   "metadata": {},
   "source": [
    "### Load environment variables (host, port, namespace, credentials)"
   ]
  },
  {
   "cell_type": "code",
   "execution_count": 2,
   "id": "2073c147",
   "metadata": {},
   "outputs": [],
   "source": [
    "dotenv.load_dotenv()\n",
    "host = os.getenv(\"IRIS_HOST\")\n",
    "port = os.getenv(\"IRIS_PORT\")\n",
    "namespace = os.getenv(\"IRIS_NAMESPACE\")\n",
    "user = os.getenv(\"IRIS_USER\")\n",
    "password = os.getenv(\"IRIS_PASSWORD\")"
   ]
  },
  {
   "cell_type": "markdown",
   "id": "81775d44",
   "metadata": {},
   "source": [
    "## 1️⃣ Connect to IRIS - Create and query a simple table"
   ]
  },
  {
   "cell_type": "markdown",
   "id": "ad70b989",
   "metadata": {},
   "source": [
    "Print connection information"
   ]
  },
  {
   "cell_type": "code",
   "execution_count": 3,
   "id": "72037ec2",
   "metadata": {},
   "outputs": [
    {
     "name": "stdout",
     "output_type": "stream",
     "text": [
      "IRIS connection [_SYSTEM@127.0.0.1:9093/USER]\n"
     ]
    }
   ],
   "source": [
    "with IRIStool(host=host, port=port, namespace=namespace, username=user, password=password) as iris:\n",
    "    # print connection information\n",
    "    print(iris)"
   ]
  },
  {
   "cell_type": "markdown",
   "id": "8bd6ff16",
   "metadata": {},
   "source": [
    "Clear existing tables"
   ]
  },
  {
   "cell_type": "code",
   "execution_count": 4,
   "id": "07621e10",
   "metadata": {},
   "outputs": [
    {
     "name": "stdout",
     "output_type": "stream",
     "text": [
      "Employee table found! Dropping table...\n",
      "table Company.Employee dropped successfully.\n",
      "Employer table found! Dropping table...\n",
      "table Company.Employer dropped successfully.\n"
     ]
    }
   ],
   "source": [
    "with IRIStool(host=host, port=port, namespace=namespace, username=user, password=password) as iris:\n",
    "    # Check if a table exists\n",
    "    if iris.table_exists(table_name=\"Employee\",table_schema=\"Company\"):\n",
    "        print(\"Employee table found! Dropping table...\")\n",
    "        iris.drop_table(table_name=\"Employee\",table_schema=\"Company\", if_exists=True, drop_related_views=True)\n",
    "    else: \n",
    "        print(\"Employee table not found!\")\n",
    "    \n",
    "    # Check if a table exists\n",
    "    if iris.table_exists(table_name=\"Employer\",table_schema=\"Company\"): \n",
    "        print(\"Employer table found! Dropping table...\")\n",
    "        iris.drop_table(table_name=\"Employer\",table_schema=\"Company\", if_exists=True, drop_related_views=True) \n",
    "    else: \n",
    "        print(\"Employer table not found!\")"
   ]
  },
  {
   "cell_type": "markdown",
   "id": "6ec5b021",
   "metadata": {},
   "source": [
    "Create Employer table"
   ]
  },
  {
   "cell_type": "code",
   "execution_count": 5,
   "id": "30731105",
   "metadata": {},
   "outputs": [
    {
     "name": "stdout",
     "output_type": "stream",
     "text": [
      "Table Company.Employer created successfully.\n",
      "Index industry_idx created successfully on Company.Employer(industry).\n",
      "3 row(s) added into Company.Employer.\n"
     ]
    },
    {
     "data": {
      "text/html": [
       "<div>\n",
       "<style scoped>\n",
       "    .dataframe tbody tr th:only-of-type {\n",
       "        vertical-align: middle;\n",
       "    }\n",
       "\n",
       "    .dataframe tbody tr th {\n",
       "        vertical-align: top;\n",
       "    }\n",
       "\n",
       "    .dataframe thead th {\n",
       "        text-align: right;\n",
       "    }\n",
       "</style>\n",
       "<table border=\"1\" class=\"dataframe\">\n",
       "  <thead>\n",
       "    <tr style=\"text-align: right;\">\n",
       "      <th></th>\n",
       "      <th>employer_id</th>\n",
       "      <th>name</th>\n",
       "      <th>industry</th>\n",
       "      <th>founded</th>\n",
       "    </tr>\n",
       "  </thead>\n",
       "  <tbody>\n",
       "    <tr>\n",
       "      <th>0</th>\n",
       "      <td>1</td>\n",
       "      <td>OpenAI</td>\n",
       "      <td>AI Research</td>\n",
       "      <td>2015</td>\n",
       "    </tr>\n",
       "    <tr>\n",
       "      <th>1</th>\n",
       "      <td>2</td>\n",
       "      <td>InterSystems</td>\n",
       "      <td>Healthcare IT</td>\n",
       "      <td>1978</td>\n",
       "    </tr>\n",
       "    <tr>\n",
       "      <th>2</th>\n",
       "      <td>3</td>\n",
       "      <td>Spotify</td>\n",
       "      <td>Music Tech</td>\n",
       "      <td>2006</td>\n",
       "    </tr>\n",
       "  </tbody>\n",
       "</table>\n",
       "</div>"
      ],
      "text/plain": [
       "   employer_id          name       industry  founded\n",
       "0            1        OpenAI    AI Research     2015\n",
       "1            2  InterSystems  Healthcare IT     1978\n",
       "2            3       Spotify     Music Tech     2006"
      ]
     },
     "metadata": {},
     "output_type": "display_data"
    }
   ],
   "source": [
    "with IRIStool(host=host, port=port, namespace=namespace, username=user, password=password) as iris:\n",
    "    # Create the table\n",
    "    iris.create_table(table_name=\"Employer\", table_schema=\"Company\", \n",
    "        columns={\"employer_id\": \"INT\", \"name\": \"VARCHAR(200)\", \"industry\": \"VARCHAR(100)\", \"founded\": \"INT\" }, \n",
    "        constraints=[\"PRIMARY KEY (employer_id)\"], \n",
    "        check_exists=True \n",
    "    ) \n",
    "    \n",
    "    # insert an index on industry\n",
    "    iris.create_index(table_name=\"Employer\", table_schema=\"Company\", index_name=\"industry_idx\", column_name=\"industry\") \n",
    "    \n",
    "    # insert rows\n",
    "    iris.insert_many(\"Employer\", [ \n",
    "        {\"employer_id\": 1, \"name\": \"OpenAI\", \"industry\": \"AI Research\", \"founded\": 2015}, \n",
    "        {\"employer_id\": 2, \"name\": \"InterSystems\", \"industry\": \"Healthcare IT\", \"founded\": 1978}, \n",
    "        {\"employer_id\": 3, \"name\": \"Spotify\", \"industry\": \"Music Tech\", \"founded\": 2006} ], \n",
    "    table_schema=\"Company\") \n",
    "    \n",
    "    # display a DataFrame with fetched data\n",
    "    display(iris.fetch(\"SELECT * FROM Company.Employer\"))"
   ]
  },
  {
   "cell_type": "markdown",
   "id": "90086cca",
   "metadata": {},
   "source": [
    "## 2️⃣ Create Child Table — Employee (with Foreign Key to Employer)"
   ]
  },
  {
   "cell_type": "markdown",
   "id": "b27c646d",
   "metadata": {},
   "source": [
    "Create a DataFrame"
   ]
  },
  {
   "cell_type": "code",
   "execution_count": 6,
   "id": "f0ddd72f",
   "metadata": {},
   "outputs": [
    {
     "name": "stdout",
     "output_type": "stream",
     "text": [
      "Original DataFrame:\n",
      "employee_id                    int64\n",
      "name                          object\n",
      "is_active                       bool\n",
      "salary                       float64\n",
      "age                            int64\n",
      "hire_date             datetime64[ns]\n",
      "department                    object\n",
      "projects_completed             int64\n",
      "employer_id                    int64\n",
      "dtype: object\n"
     ]
    },
    {
     "data": {
      "text/html": [
       "<div>\n",
       "<style scoped>\n",
       "    .dataframe tbody tr th:only-of-type {\n",
       "        vertical-align: middle;\n",
       "    }\n",
       "\n",
       "    .dataframe tbody tr th {\n",
       "        vertical-align: top;\n",
       "    }\n",
       "\n",
       "    .dataframe thead th {\n",
       "        text-align: right;\n",
       "    }\n",
       "</style>\n",
       "<table border=\"1\" class=\"dataframe\">\n",
       "  <thead>\n",
       "    <tr style=\"text-align: right;\">\n",
       "      <th></th>\n",
       "      <th>employee_id</th>\n",
       "      <th>name</th>\n",
       "      <th>is_active</th>\n",
       "      <th>salary</th>\n",
       "      <th>age</th>\n",
       "      <th>hire_date</th>\n",
       "      <th>department</th>\n",
       "      <th>projects_completed</th>\n",
       "      <th>employer_id</th>\n",
       "    </tr>\n",
       "  </thead>\n",
       "  <tbody>\n",
       "    <tr>\n",
       "      <th>0</th>\n",
       "      <td>1</td>\n",
       "      <td>Alice</td>\n",
       "      <td>True</td>\n",
       "      <td>72000.50</td>\n",
       "      <td>29</td>\n",
       "      <td>2020-05-01</td>\n",
       "      <td>IT</td>\n",
       "      <td>15</td>\n",
       "      <td>1</td>\n",
       "    </tr>\n",
       "    <tr>\n",
       "      <th>1</th>\n",
       "      <td>2</td>\n",
       "      <td>Bob</td>\n",
       "      <td>False</td>\n",
       "      <td>55000.00</td>\n",
       "      <td>34</td>\n",
       "      <td>2019-08-15</td>\n",
       "      <td>HR</td>\n",
       "      <td>8</td>\n",
       "      <td>2</td>\n",
       "    </tr>\n",
       "    <tr>\n",
       "      <th>2</th>\n",
       "      <td>3</td>\n",
       "      <td>Charlie</td>\n",
       "      <td>True</td>\n",
       "      <td>62000.75</td>\n",
       "      <td>28</td>\n",
       "      <td>2021-03-03</td>\n",
       "      <td>Finance</td>\n",
       "      <td>10</td>\n",
       "      <td>3</td>\n",
       "    </tr>\n",
       "  </tbody>\n",
       "</table>\n",
       "</div>"
      ],
      "text/plain": [
       "   employee_id     name  is_active    salary  age  hire_date department  \\\n",
       "0            1    Alice       True  72000.50   29 2020-05-01         IT   \n",
       "1            2      Bob      False  55000.00   34 2019-08-15         HR   \n",
       "2            3  Charlie       True  62000.75   28 2021-03-03    Finance   \n",
       "\n",
       "   projects_completed  employer_id  \n",
       "0                  15            1  \n",
       "1                   8            2  \n",
       "2                  10            3  "
      ]
     },
     "metadata": {},
     "output_type": "display_data"
    }
   ],
   "source": [
    "# define a DataFrame\n",
    "df = pd.DataFrame({\n",
    "    \"employee_id\": [1, 2, 3],\n",
    "    \"name\": [\"Alice\", \"Bob\", \"Charlie\"],\n",
    "    \"is_active\": [True, False, True], # Boolean\n",
    "    \"salary\": [72000.50, 55000.00, 62000.75], # Float,\n",
    "    \"age\": [29, 34, 28], # Integer\n",
    "    \"hire_date\": [datetime(2020,5,1), datetime(2019,8,15), datetime(2021,3,3)], # Datetime\n",
    "    \"department\": [\"IT\", \"HR\", \"Finance\"], # String\n",
    "    \"projects_completed\": [15, 8, 10], # Integer\n",
    "    \"employer_id\": [1, 2, 3]\n",
    "})\n",
    "\n",
    "print(\"Original DataFrame:\")\n",
    "print(df.dtypes)\n",
    "display(df)"
   ]
  },
  {
   "cell_type": "markdown",
   "id": "2fafa02e",
   "metadata": {},
   "source": [
    "Import the dataframe automatically inferring types"
   ]
  },
  {
   "cell_type": "code",
   "execution_count": 7,
   "id": "d51ad80c",
   "metadata": {},
   "outputs": [
    {
     "name": "stdout",
     "output_type": "stream",
     "text": [
      "Table Company.Employee created successfully.\n",
      "Inserted 3 rows into Employee\n"
     ]
    },
    {
     "data": {
      "text/plain": [
       "'Columns:'"
      ]
     },
     "metadata": {},
     "output_type": "display_data"
    },
    {
     "data": {
      "text/html": [
       "<div>\n",
       "<style scoped>\n",
       "    .dataframe tbody tr th:only-of-type {\n",
       "        vertical-align: middle;\n",
       "    }\n",
       "\n",
       "    .dataframe tbody tr th {\n",
       "        vertical-align: top;\n",
       "    }\n",
       "\n",
       "    .dataframe thead th {\n",
       "        text-align: right;\n",
       "    }\n",
       "</style>\n",
       "<table border=\"1\" class=\"dataframe\">\n",
       "  <thead>\n",
       "    <tr style=\"text-align: right;\">\n",
       "      <th></th>\n",
       "      <th>TABLE_SCHEMA</th>\n",
       "      <th>TABLE_NAME</th>\n",
       "      <th>COLUMN_NAME</th>\n",
       "      <th>DATA_TYPE</th>\n",
       "      <th>CHARACTER_MAXIMUM_LENGTH</th>\n",
       "      <th>IS_NULLABLE</th>\n",
       "      <th>AUTO_INCREMENT</th>\n",
       "      <th>UNIQUE_COLUMN</th>\n",
       "      <th>PRIMARY_KEY</th>\n",
       "      <th>odbctype</th>\n",
       "    </tr>\n",
       "  </thead>\n",
       "  <tbody>\n",
       "    <tr>\n",
       "      <th>0</th>\n",
       "      <td>Company</td>\n",
       "      <td>Employee</td>\n",
       "      <td>employee_id</td>\n",
       "      <td>integer</td>\n",
       "      <td>NaN</td>\n",
       "      <td>NO</td>\n",
       "      <td>NO</td>\n",
       "      <td>YES</td>\n",
       "      <td>YES</td>\n",
       "      <td>4</td>\n",
       "    </tr>\n",
       "    <tr>\n",
       "      <th>1</th>\n",
       "      <td>Company</td>\n",
       "      <td>Employee</td>\n",
       "      <td>name</td>\n",
       "      <td>varchar</td>\n",
       "      <td>255.0</td>\n",
       "      <td>YES</td>\n",
       "      <td>NO</td>\n",
       "      <td>NO</td>\n",
       "      <td>NO</td>\n",
       "      <td>12</td>\n",
       "    </tr>\n",
       "    <tr>\n",
       "      <th>2</th>\n",
       "      <td>Company</td>\n",
       "      <td>Employee</td>\n",
       "      <td>is_active</td>\n",
       "      <td>bit</td>\n",
       "      <td>NaN</td>\n",
       "      <td>YES</td>\n",
       "      <td>NO</td>\n",
       "      <td>NO</td>\n",
       "      <td>NO</td>\n",
       "      <td>-7</td>\n",
       "    </tr>\n",
       "    <tr>\n",
       "      <th>3</th>\n",
       "      <td>Company</td>\n",
       "      <td>Employee</td>\n",
       "      <td>salary</td>\n",
       "      <td>double</td>\n",
       "      <td>NaN</td>\n",
       "      <td>YES</td>\n",
       "      <td>NO</td>\n",
       "      <td>NO</td>\n",
       "      <td>NO</td>\n",
       "      <td>8</td>\n",
       "    </tr>\n",
       "    <tr>\n",
       "      <th>4</th>\n",
       "      <td>Company</td>\n",
       "      <td>Employee</td>\n",
       "      <td>age</td>\n",
       "      <td>integer</td>\n",
       "      <td>NaN</td>\n",
       "      <td>YES</td>\n",
       "      <td>NO</td>\n",
       "      <td>NO</td>\n",
       "      <td>NO</td>\n",
       "      <td>4</td>\n",
       "    </tr>\n",
       "    <tr>\n",
       "      <th>5</th>\n",
       "      <td>Company</td>\n",
       "      <td>Employee</td>\n",
       "      <td>hire_date</td>\n",
       "      <td>date</td>\n",
       "      <td>NaN</td>\n",
       "      <td>YES</td>\n",
       "      <td>NO</td>\n",
       "      <td>NO</td>\n",
       "      <td>NO</td>\n",
       "      <td>9</td>\n",
       "    </tr>\n",
       "    <tr>\n",
       "      <th>6</th>\n",
       "      <td>Company</td>\n",
       "      <td>Employee</td>\n",
       "      <td>department</td>\n",
       "      <td>varchar</td>\n",
       "      <td>255.0</td>\n",
       "      <td>YES</td>\n",
       "      <td>NO</td>\n",
       "      <td>NO</td>\n",
       "      <td>NO</td>\n",
       "      <td>12</td>\n",
       "    </tr>\n",
       "    <tr>\n",
       "      <th>7</th>\n",
       "      <td>Company</td>\n",
       "      <td>Employee</td>\n",
       "      <td>projects_completed</td>\n",
       "      <td>integer</td>\n",
       "      <td>NaN</td>\n",
       "      <td>YES</td>\n",
       "      <td>NO</td>\n",
       "      <td>NO</td>\n",
       "      <td>NO</td>\n",
       "      <td>4</td>\n",
       "    </tr>\n",
       "    <tr>\n",
       "      <th>8</th>\n",
       "      <td>Company</td>\n",
       "      <td>Employee</td>\n",
       "      <td>employer_id</td>\n",
       "      <td>integer</td>\n",
       "      <td>NaN</td>\n",
       "      <td>YES</td>\n",
       "      <td>NO</td>\n",
       "      <td>NO</td>\n",
       "      <td>NO</td>\n",
       "      <td>4</td>\n",
       "    </tr>\n",
       "  </tbody>\n",
       "</table>\n",
       "</div>"
      ],
      "text/plain": [
       "  TABLE_SCHEMA TABLE_NAME         COLUMN_NAME DATA_TYPE  \\\n",
       "0      Company   Employee         employee_id   integer   \n",
       "1      Company   Employee                name   varchar   \n",
       "2      Company   Employee           is_active       bit   \n",
       "3      Company   Employee              salary    double   \n",
       "4      Company   Employee                 age   integer   \n",
       "5      Company   Employee           hire_date      date   \n",
       "6      Company   Employee          department   varchar   \n",
       "7      Company   Employee  projects_completed   integer   \n",
       "8      Company   Employee         employer_id   integer   \n",
       "\n",
       "   CHARACTER_MAXIMUM_LENGTH IS_NULLABLE AUTO_INCREMENT UNIQUE_COLUMN  \\\n",
       "0                       NaN          NO             NO           YES   \n",
       "1                     255.0         YES             NO            NO   \n",
       "2                       NaN         YES             NO            NO   \n",
       "3                       NaN         YES             NO            NO   \n",
       "4                       NaN         YES             NO            NO   \n",
       "5                       NaN         YES             NO            NO   \n",
       "6                     255.0         YES             NO            NO   \n",
       "7                       NaN         YES             NO            NO   \n",
       "8                       NaN         YES             NO            NO   \n",
       "\n",
       "  PRIMARY_KEY  odbctype  \n",
       "0         YES         4  \n",
       "1          NO        12  \n",
       "2          NO        -7  \n",
       "3          NO         8  \n",
       "4          NO         4  \n",
       "5          NO         9  \n",
       "6          NO        12  \n",
       "7          NO         4  \n",
       "8          NO         4  "
      ]
     },
     "metadata": {},
     "output_type": "display_data"
    },
    {
     "data": {
      "text/plain": [
       "'Indexes:'"
      ]
     },
     "metadata": {},
     "output_type": "display_data"
    },
    {
     "data": {
      "text/html": [
       "<div>\n",
       "<style scoped>\n",
       "    .dataframe tbody tr th:only-of-type {\n",
       "        vertical-align: middle;\n",
       "    }\n",
       "\n",
       "    .dataframe tbody tr th {\n",
       "        vertical-align: top;\n",
       "    }\n",
       "\n",
       "    .dataframe thead th {\n",
       "        text-align: right;\n",
       "    }\n",
       "</style>\n",
       "<table border=\"1\" class=\"dataframe\">\n",
       "  <thead>\n",
       "    <tr style=\"text-align: right;\">\n",
       "      <th></th>\n",
       "      <th>INDEX_NAME</th>\n",
       "      <th>COLUMN_NAME</th>\n",
       "      <th>PRIMARY_KEY</th>\n",
       "      <th>NON_UNIQUE</th>\n",
       "    </tr>\n",
       "  </thead>\n",
       "  <tbody>\n",
       "    <tr>\n",
       "      <th>0</th>\n",
       "      <td>EMPLOYEEPKey1</td>\n",
       "      <td>employee_id</td>\n",
       "      <td>1</td>\n",
       "      <td>0</td>\n",
       "    </tr>\n",
       "  </tbody>\n",
       "</table>\n",
       "</div>"
      ],
      "text/plain": [
       "      INDEX_NAME  COLUMN_NAME  PRIMARY_KEY  NON_UNIQUE\n",
       "0  EMPLOYEEPKey1  employee_id            1           0"
      ]
     },
     "metadata": {},
     "output_type": "display_data"
    }
   ],
   "source": [
    "with IRIStool(host=host, port=port, namespace=namespace, username=user, password=password) as iris:        \n",
    "    fk = [\"FOREIGN KEY(employer_id) REFERENCES Company.Employer(employer_id)\"] \n",
    "        \n",
    "    # Convert DataFrame into an IRIS table \n",
    "    iris.df_to_table(\n",
    "        df=df, \n",
    "        table_name=\"Employee\", \n",
    "        table_schema=\"Company\", \n",
    "        primary_key=\"employee_id\", \n",
    "        exist_ok=True, \n",
    "        drop_if_exists=True,\n",
    "        constraints=fk\n",
    "    )    \n",
    "    \n",
    "    # show column types -> Automatically infer IRIS data types from a DataFrame during conversion\n",
    "    info = iris.describe_table(table_name=\"Employee\", table_schema=\"Company\")\n",
    "    \n",
    "    df_cols = pd.DataFrame(info[\"columns\"])\n",
    "    display(\"Columns:\", df_cols)\n",
    "\n",
    "    df_idx = pd.DataFrame(info[\"indexes\"])\n",
    "    display(\"Indexes:\", df_idx)"
   ]
  },
  {
   "cell_type": "markdown",
   "id": "0cd0a0b3",
   "metadata": {},
   "source": [
    "Show foreign keys"
   ]
  },
  {
   "cell_type": "code",
   "execution_count": 8,
   "id": "10828091",
   "metadata": {},
   "outputs": [
    {
     "data": {
      "text/plain": [
       "'Foreign keys:'"
      ]
     },
     "metadata": {},
     "output_type": "display_data"
    },
    {
     "data": {
      "text/html": [
       "<div>\n",
       "<style scoped>\n",
       "    .dataframe tbody tr th:only-of-type {\n",
       "        vertical-align: middle;\n",
       "    }\n",
       "\n",
       "    .dataframe tbody tr th {\n",
       "        vertical-align: top;\n",
       "    }\n",
       "\n",
       "    .dataframe thead th {\n",
       "        text-align: right;\n",
       "    }\n",
       "</style>\n",
       "<table border=\"1\" class=\"dataframe\">\n",
       "  <thead>\n",
       "    <tr style=\"text-align: right;\">\n",
       "      <th></th>\n",
       "      <th>constraint_name</th>\n",
       "      <th>referenced_table</th>\n",
       "      <th>referenced_schema</th>\n",
       "      <th>table_schema</th>\n",
       "      <th>table_name</th>\n",
       "      <th>column_name</th>\n",
       "      <th>referenced_column_name</th>\n",
       "    </tr>\n",
       "  </thead>\n",
       "  <tbody>\n",
       "    <tr>\n",
       "      <th>0</th>\n",
       "      <td>EMPLOYEEFKey2</td>\n",
       "      <td>Employer</td>\n",
       "      <td>Company</td>\n",
       "      <td>Company</td>\n",
       "      <td>Employee</td>\n",
       "      <td>employer_id</td>\n",
       "      <td>employer_id</td>\n",
       "    </tr>\n",
       "  </tbody>\n",
       "</table>\n",
       "</div>"
      ],
      "text/plain": [
       "  constraint_name referenced_table referenced_schema table_schema table_name  \\\n",
       "0   EMPLOYEEFKey2         Employer           Company      Company   Employee   \n",
       "\n",
       "   column_name referenced_column_name  \n",
       "0  employer_id            employer_id  "
      ]
     },
     "metadata": {},
     "output_type": "display_data"
    },
    {
     "data": {
      "text/plain": [
       "'References:'"
      ]
     },
     "metadata": {},
     "output_type": "display_data"
    },
    {
     "data": {
      "text/html": [
       "<div>\n",
       "<style scoped>\n",
       "    .dataframe tbody tr th:only-of-type {\n",
       "        vertical-align: middle;\n",
       "    }\n",
       "\n",
       "    .dataframe tbody tr th {\n",
       "        vertical-align: top;\n",
       "    }\n",
       "\n",
       "    .dataframe thead th {\n",
       "        text-align: right;\n",
       "    }\n",
       "</style>\n",
       "<table border=\"1\" class=\"dataframe\">\n",
       "  <thead>\n",
       "    <tr style=\"text-align: right;\">\n",
       "      <th></th>\n",
       "      <th>constraint_name</th>\n",
       "      <th>referenced_table</th>\n",
       "      <th>referenced_schema</th>\n",
       "      <th>table_schema</th>\n",
       "      <th>table_name</th>\n",
       "      <th>column_name</th>\n",
       "      <th>referenced_column_name</th>\n",
       "    </tr>\n",
       "  </thead>\n",
       "  <tbody>\n",
       "    <tr>\n",
       "      <th>0</th>\n",
       "      <td>EMPLOYEEFKey2</td>\n",
       "      <td>Employer</td>\n",
       "      <td>Company</td>\n",
       "      <td>Company</td>\n",
       "      <td>Employee</td>\n",
       "      <td>employer_id</td>\n",
       "      <td>employer_id</td>\n",
       "    </tr>\n",
       "  </tbody>\n",
       "</table>\n",
       "</div>"
      ],
      "text/plain": [
       "  constraint_name referenced_table referenced_schema table_schema table_name  \\\n",
       "0   EMPLOYEEFKey2         Employer           Company      Company   Employee   \n",
       "\n",
       "   column_name referenced_column_name  \n",
       "0  employer_id            employer_id  "
      ]
     },
     "metadata": {},
     "output_type": "display_data"
    }
   ],
   "source": [
    "with IRIStool(host=host, port=port, namespace=namespace, username=user, password=password) as iris:\n",
    "    foreign_keys = iris.get_reference_from_this_table(table_name=\"Employee\", table_schema=\"Company\")\n",
    "    display(\"Foreign keys:\", foreign_keys)\n",
    "    \n",
    "    # Get reference to this table\n",
    "    references = iris.get_reference_to_this_table(table_name=\"Employer\", table_schema=\"Company\")\n",
    "    display(\"References:\", references)"
   ]
  },
  {
   "cell_type": "markdown",
   "id": "2ae4c3aa",
   "metadata": {},
   "source": [
    "Fetch data from IRIS database"
   ]
  },
  {
   "cell_type": "code",
   "execution_count": 9,
   "id": "a22ba4a3",
   "metadata": {},
   "outputs": [
    {
     "name": "stdout",
     "output_type": "stream",
     "text": [
      "Retrieving data of employees with age greater than 30...\n"
     ]
    },
    {
     "data": {
      "text/html": [
       "<div>\n",
       "<style scoped>\n",
       "    .dataframe tbody tr th:only-of-type {\n",
       "        vertical-align: middle;\n",
       "    }\n",
       "\n",
       "    .dataframe tbody tr th {\n",
       "        vertical-align: top;\n",
       "    }\n",
       "\n",
       "    .dataframe thead th {\n",
       "        text-align: right;\n",
       "    }\n",
       "</style>\n",
       "<table border=\"1\" class=\"dataframe\">\n",
       "  <thead>\n",
       "    <tr style=\"text-align: right;\">\n",
       "      <th></th>\n",
       "      <th>employee_id</th>\n",
       "      <th>name</th>\n",
       "      <th>is_active</th>\n",
       "      <th>salary</th>\n",
       "      <th>age</th>\n",
       "      <th>hire_date</th>\n",
       "      <th>department</th>\n",
       "      <th>projects_completed</th>\n",
       "      <th>employer_id</th>\n",
       "    </tr>\n",
       "  </thead>\n",
       "  <tbody>\n",
       "    <tr>\n",
       "      <th>0</th>\n",
       "      <td>2</td>\n",
       "      <td>Bob</td>\n",
       "      <td>0</td>\n",
       "      <td>55000.0</td>\n",
       "      <td>34</td>\n",
       "      <td>2019-08-15</td>\n",
       "      <td>HR</td>\n",
       "      <td>8</td>\n",
       "      <td>2</td>\n",
       "    </tr>\n",
       "  </tbody>\n",
       "</table>\n",
       "</div>"
      ],
      "text/plain": [
       "   employee_id name  is_active   salary  age   hire_date department  \\\n",
       "0            2  Bob          0  55000.0   34  2019-08-15         HR   \n",
       "\n",
       "   projects_completed  employer_id  \n",
       "0                   8            2  "
      ]
     },
     "metadata": {},
     "output_type": "display_data"
    },
    {
     "name": "stdout",
     "output_type": "stream",
     "text": [
      "Describing dataframe:\n"
     ]
    },
    {
     "data": {
      "text/html": [
       "<div>\n",
       "<style scoped>\n",
       "    .dataframe tbody tr th:only-of-type {\n",
       "        vertical-align: middle;\n",
       "    }\n",
       "\n",
       "    .dataframe tbody tr th {\n",
       "        vertical-align: top;\n",
       "    }\n",
       "\n",
       "    .dataframe thead th {\n",
       "        text-align: right;\n",
       "    }\n",
       "</style>\n",
       "<table border=\"1\" class=\"dataframe\">\n",
       "  <thead>\n",
       "    <tr style=\"text-align: right;\">\n",
       "      <th></th>\n",
       "      <th>employee_id</th>\n",
       "      <th>is_active</th>\n",
       "      <th>salary</th>\n",
       "      <th>age</th>\n",
       "      <th>projects_completed</th>\n",
       "      <th>employer_id</th>\n",
       "    </tr>\n",
       "  </thead>\n",
       "  <tbody>\n",
       "    <tr>\n",
       "      <th>count</th>\n",
       "      <td>1.0</td>\n",
       "      <td>1.0</td>\n",
       "      <td>1.0</td>\n",
       "      <td>1.0</td>\n",
       "      <td>1.0</td>\n",
       "      <td>1.0</td>\n",
       "    </tr>\n",
       "    <tr>\n",
       "      <th>mean</th>\n",
       "      <td>2.0</td>\n",
       "      <td>0.0</td>\n",
       "      <td>55000.0</td>\n",
       "      <td>34.0</td>\n",
       "      <td>8.0</td>\n",
       "      <td>2.0</td>\n",
       "    </tr>\n",
       "    <tr>\n",
       "      <th>std</th>\n",
       "      <td>NaN</td>\n",
       "      <td>NaN</td>\n",
       "      <td>NaN</td>\n",
       "      <td>NaN</td>\n",
       "      <td>NaN</td>\n",
       "      <td>NaN</td>\n",
       "    </tr>\n",
       "    <tr>\n",
       "      <th>min</th>\n",
       "      <td>2.0</td>\n",
       "      <td>0.0</td>\n",
       "      <td>55000.0</td>\n",
       "      <td>34.0</td>\n",
       "      <td>8.0</td>\n",
       "      <td>2.0</td>\n",
       "    </tr>\n",
       "    <tr>\n",
       "      <th>25%</th>\n",
       "      <td>2.0</td>\n",
       "      <td>0.0</td>\n",
       "      <td>55000.0</td>\n",
       "      <td>34.0</td>\n",
       "      <td>8.0</td>\n",
       "      <td>2.0</td>\n",
       "    </tr>\n",
       "    <tr>\n",
       "      <th>50%</th>\n",
       "      <td>2.0</td>\n",
       "      <td>0.0</td>\n",
       "      <td>55000.0</td>\n",
       "      <td>34.0</td>\n",
       "      <td>8.0</td>\n",
       "      <td>2.0</td>\n",
       "    </tr>\n",
       "    <tr>\n",
       "      <th>75%</th>\n",
       "      <td>2.0</td>\n",
       "      <td>0.0</td>\n",
       "      <td>55000.0</td>\n",
       "      <td>34.0</td>\n",
       "      <td>8.0</td>\n",
       "      <td>2.0</td>\n",
       "    </tr>\n",
       "    <tr>\n",
       "      <th>max</th>\n",
       "      <td>2.0</td>\n",
       "      <td>0.0</td>\n",
       "      <td>55000.0</td>\n",
       "      <td>34.0</td>\n",
       "      <td>8.0</td>\n",
       "      <td>2.0</td>\n",
       "    </tr>\n",
       "  </tbody>\n",
       "</table>\n",
       "</div>"
      ],
      "text/plain": [
       "       employee_id  is_active   salary   age  projects_completed  employer_id\n",
       "count          1.0        1.0      1.0   1.0                 1.0          1.0\n",
       "mean           2.0        0.0  55000.0  34.0                 8.0          2.0\n",
       "std            NaN        NaN      NaN   NaN                 NaN          NaN\n",
       "min            2.0        0.0  55000.0  34.0                 8.0          2.0\n",
       "25%            2.0        0.0  55000.0  34.0                 8.0          2.0\n",
       "50%            2.0        0.0  55000.0  34.0                 8.0          2.0\n",
       "75%            2.0        0.0  55000.0  34.0                 8.0          2.0\n",
       "max            2.0        0.0  55000.0  34.0                 8.0          2.0"
      ]
     },
     "metadata": {},
     "output_type": "display_data"
    }
   ],
   "source": [
    "with IRIStool(host=host, port=port, namespace=namespace, username=user, password=password) as iris:        \n",
    "    desired_age = 30\n",
    "    print(f\"Retrieving data of employees with age greater than {desired_age}...\")\n",
    "    employees = iris.fetch(\"SELECT * FROM Company.Employee WHERE Age > ?\", [desired_age])\n",
    "    display(employees)    \n",
    "    print(\"Describing dataframe:\")\n",
    "    display(employees.describe())"
   ]
  },
  {
   "cell_type": "markdown",
   "id": "01e53be6",
   "metadata": {},
   "source": [
    "## Thank you!"
   ]
  }
 ],
 "metadata": {
  "kernelspec": {
   "display_name": "iris_tool_and_data_manager",
   "language": "python",
   "name": "python3"
  },
  "language_info": {
   "codemirror_mode": {
    "name": "ipython",
    "version": 3
   },
   "file_extension": ".py",
   "mimetype": "text/x-python",
   "name": "python",
   "nbconvert_exporter": "python",
   "pygments_lexer": "ipython3",
   "version": "3.13.5"
  }
 },
 "nbformat": 4,
 "nbformat_minor": 5
}
